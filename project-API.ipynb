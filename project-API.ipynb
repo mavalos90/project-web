{
 "cells": [
  {
   "cell_type": "markdown",
   "metadata": {},
   "source": [
    "# PROJECT - API WEB SCRAPPING"
   ]
  },
  {
   "cell_type": "markdown",
   "metadata": {},
   "source": [
    "## 1.- API "
   ]
  },
  {
   "cell_type": "markdown",
   "metadata": {},
   "source": [
    "## Retrieve set cards from API"
   ]
  },
  {
   "cell_type": "code",
   "execution_count": 1,
   "metadata": {},
   "outputs": [],
   "source": [
    "#import libraries\n",
    "\n",
    "import json\n",
    "import requests\n",
    "import pandas as pd\n",
    "import numpy as np\n",
    "from pandas.io.json import json_normalize\n",
    "from bs4 import BeautifulSoup\n",
    "import time"
   ]
  },
  {
   "cell_type": "code",
   "execution_count": 2,
   "metadata": {},
   "outputs": [],
   "source": [
    "# extract sets from scryfall API\n",
    "\n",
    "complete = []\n",
    "url = 'https://api.scryfall.com/sets'\n",
    "response = requests.get(url)\n",
    "results = response.json()\n",
    "x = json_normalize(results)\n",
    "flattened_data1 = json_normalize(x.data[0])\n",
    "complete.append(flattened_data1)\n",
    "scryfall = pd.concat(complete, sort=False)"
   ]
  },
  {
   "cell_type": "code",
   "execution_count": 3,
   "metadata": {},
   "outputs": [
    {
     "data": {
      "text/html": [
       "<div>\n",
       "<style scoped>\n",
       "    .dataframe tbody tr th:only-of-type {\n",
       "        vertical-align: middle;\n",
       "    }\n",
       "\n",
       "    .dataframe tbody tr th {\n",
       "        vertical-align: top;\n",
       "    }\n",
       "\n",
       "    .dataframe thead th {\n",
       "        text-align: right;\n",
       "    }\n",
       "</style>\n",
       "<table border=\"1\" class=\"dataframe\">\n",
       "  <thead>\n",
       "    <tr style=\"text-align: right;\">\n",
       "      <th></th>\n",
       "      <th>object</th>\n",
       "      <th>id</th>\n",
       "      <th>code</th>\n",
       "      <th>name</th>\n",
       "      <th>uri</th>\n",
       "      <th>scryfall_uri</th>\n",
       "      <th>search_uri</th>\n",
       "      <th>released_at</th>\n",
       "      <th>set_type</th>\n",
       "      <th>card_count</th>\n",
       "      <th>parent_set_code</th>\n",
       "      <th>digital</th>\n",
       "      <th>foil_only</th>\n",
       "      <th>icon_svg_uri</th>\n",
       "      <th>tcgplayer_id</th>\n",
       "      <th>mtgo_code</th>\n",
       "      <th>arena_code</th>\n",
       "      <th>block_code</th>\n",
       "      <th>block</th>\n",
       "    </tr>\n",
       "  </thead>\n",
       "  <tbody>\n",
       "    <tr>\n",
       "      <td>0</td>\n",
       "      <td>set</td>\n",
       "      <td>8fe3f935-7c8d-4a4e-a051-c0b0f251d262</td>\n",
       "      <td>tund</td>\n",
       "      <td>Unsanctioned Tokens</td>\n",
       "      <td>https://api.scryfall.com/sets/8fe3f935-7c8d-4a...</td>\n",
       "      <td>https://scryfall.com/sets/tund</td>\n",
       "      <td>https://api.scryfall.com/cards/search?order=se...</td>\n",
       "      <td>2020-02-29</td>\n",
       "      <td>token</td>\n",
       "      <td>6</td>\n",
       "      <td>und</td>\n",
       "      <td>False</td>\n",
       "      <td>False</td>\n",
       "      <td>https://img.scryfall.com/sets/default.svg?1581...</td>\n",
       "      <td>NaN</td>\n",
       "      <td>NaN</td>\n",
       "      <td>NaN</td>\n",
       "      <td>NaN</td>\n",
       "      <td>NaN</td>\n",
       "    </tr>\n",
       "    <tr>\n",
       "      <td>1</td>\n",
       "      <td>set</td>\n",
       "      <td>fccfdf97-f5f2-43b4-9be9-9255414e6633</td>\n",
       "      <td>und</td>\n",
       "      <td>Unsanctioned</td>\n",
       "      <td>https://api.scryfall.com/sets/fccfdf97-f5f2-43...</td>\n",
       "      <td>https://scryfall.com/sets/und</td>\n",
       "      <td>https://api.scryfall.com/cards/search?order=se...</td>\n",
       "      <td>2020-02-29</td>\n",
       "      <td>funny</td>\n",
       "      <td>96</td>\n",
       "      <td>NaN</td>\n",
       "      <td>False</td>\n",
       "      <td>False</td>\n",
       "      <td>https://img.scryfall.com/sets/default.svg?1581...</td>\n",
       "      <td>2598.0</td>\n",
       "      <td>NaN</td>\n",
       "      <td>NaN</td>\n",
       "      <td>NaN</td>\n",
       "      <td>NaN</td>\n",
       "    </tr>\n",
       "    <tr>\n",
       "      <td>2</td>\n",
       "      <td>set</td>\n",
       "      <td>66d787e4-101d-4f72-a4ed-7c38df9b99fe</td>\n",
       "      <td>pthb</td>\n",
       "      <td>Theros Beyond Death Promos</td>\n",
       "      <td>https://api.scryfall.com/sets/66d787e4-101d-4f...</td>\n",
       "      <td>https://scryfall.com/sets/pthb</td>\n",
       "      <td>https://api.scryfall.com/cards/search?order=se...</td>\n",
       "      <td>2020-01-24</td>\n",
       "      <td>promo</td>\n",
       "      <td>136</td>\n",
       "      <td>thb</td>\n",
       "      <td>False</td>\n",
       "      <td>False</td>\n",
       "      <td>https://img.scryfall.com/sets/thb.svg?1581915600</td>\n",
       "      <td>NaN</td>\n",
       "      <td>NaN</td>\n",
       "      <td>NaN</td>\n",
       "      <td>NaN</td>\n",
       "      <td>NaN</td>\n",
       "    </tr>\n",
       "    <tr>\n",
       "      <td>3</td>\n",
       "      <td>set</td>\n",
       "      <td>200c397b-bf57-46a2-8ebf-592148fd49a4</td>\n",
       "      <td>tthb</td>\n",
       "      <td>Theros Beyond Death Tokens</td>\n",
       "      <td>https://api.scryfall.com/sets/200c397b-bf57-46...</td>\n",
       "      <td>https://scryfall.com/sets/tthb</td>\n",
       "      <td>https://api.scryfall.com/cards/search?order=se...</td>\n",
       "      <td>2020-01-24</td>\n",
       "      <td>token</td>\n",
       "      <td>14</td>\n",
       "      <td>thb</td>\n",
       "      <td>False</td>\n",
       "      <td>False</td>\n",
       "      <td>https://img.scryfall.com/sets/thb.svg?1581915600</td>\n",
       "      <td>NaN</td>\n",
       "      <td>NaN</td>\n",
       "      <td>NaN</td>\n",
       "      <td>NaN</td>\n",
       "      <td>NaN</td>\n",
       "    </tr>\n",
       "    <tr>\n",
       "      <td>4</td>\n",
       "      <td>set</td>\n",
       "      <td>5f23a78d-cda1-462a-8be3-a62b40c34913</td>\n",
       "      <td>thb</td>\n",
       "      <td>Theros Beyond Death</td>\n",
       "      <td>https://api.scryfall.com/sets/5f23a78d-cda1-46...</td>\n",
       "      <td>https://scryfall.com/sets/thb</td>\n",
       "      <td>https://api.scryfall.com/cards/search?order=se...</td>\n",
       "      <td>2020-01-24</td>\n",
       "      <td>expansion</td>\n",
       "      <td>358</td>\n",
       "      <td>NaN</td>\n",
       "      <td>False</td>\n",
       "      <td>False</td>\n",
       "      <td>https://img.scryfall.com/sets/thb.svg?1581915600</td>\n",
       "      <td>2568.0</td>\n",
       "      <td>thb</td>\n",
       "      <td>thb</td>\n",
       "      <td>NaN</td>\n",
       "      <td>NaN</td>\n",
       "    </tr>\n",
       "  </tbody>\n",
       "</table>\n",
       "</div>"
      ],
      "text/plain": [
       "  object                                    id  code  \\\n",
       "0    set  8fe3f935-7c8d-4a4e-a051-c0b0f251d262  tund   \n",
       "1    set  fccfdf97-f5f2-43b4-9be9-9255414e6633   und   \n",
       "2    set  66d787e4-101d-4f72-a4ed-7c38df9b99fe  pthb   \n",
       "3    set  200c397b-bf57-46a2-8ebf-592148fd49a4  tthb   \n",
       "4    set  5f23a78d-cda1-462a-8be3-a62b40c34913   thb   \n",
       "\n",
       "                         name  \\\n",
       "0         Unsanctioned Tokens   \n",
       "1                Unsanctioned   \n",
       "2  Theros Beyond Death Promos   \n",
       "3  Theros Beyond Death Tokens   \n",
       "4         Theros Beyond Death   \n",
       "\n",
       "                                                 uri  \\\n",
       "0  https://api.scryfall.com/sets/8fe3f935-7c8d-4a...   \n",
       "1  https://api.scryfall.com/sets/fccfdf97-f5f2-43...   \n",
       "2  https://api.scryfall.com/sets/66d787e4-101d-4f...   \n",
       "3  https://api.scryfall.com/sets/200c397b-bf57-46...   \n",
       "4  https://api.scryfall.com/sets/5f23a78d-cda1-46...   \n",
       "\n",
       "                     scryfall_uri  \\\n",
       "0  https://scryfall.com/sets/tund   \n",
       "1   https://scryfall.com/sets/und   \n",
       "2  https://scryfall.com/sets/pthb   \n",
       "3  https://scryfall.com/sets/tthb   \n",
       "4   https://scryfall.com/sets/thb   \n",
       "\n",
       "                                          search_uri released_at   set_type  \\\n",
       "0  https://api.scryfall.com/cards/search?order=se...  2020-02-29      token   \n",
       "1  https://api.scryfall.com/cards/search?order=se...  2020-02-29      funny   \n",
       "2  https://api.scryfall.com/cards/search?order=se...  2020-01-24      promo   \n",
       "3  https://api.scryfall.com/cards/search?order=se...  2020-01-24      token   \n",
       "4  https://api.scryfall.com/cards/search?order=se...  2020-01-24  expansion   \n",
       "\n",
       "   card_count parent_set_code  digital  foil_only  \\\n",
       "0           6             und    False      False   \n",
       "1          96             NaN    False      False   \n",
       "2         136             thb    False      False   \n",
       "3          14             thb    False      False   \n",
       "4         358             NaN    False      False   \n",
       "\n",
       "                                        icon_svg_uri  tcgplayer_id mtgo_code  \\\n",
       "0  https://img.scryfall.com/sets/default.svg?1581...           NaN       NaN   \n",
       "1  https://img.scryfall.com/sets/default.svg?1581...        2598.0       NaN   \n",
       "2   https://img.scryfall.com/sets/thb.svg?1581915600           NaN       NaN   \n",
       "3   https://img.scryfall.com/sets/thb.svg?1581915600           NaN       NaN   \n",
       "4   https://img.scryfall.com/sets/thb.svg?1581915600        2568.0       thb   \n",
       "\n",
       "  arena_code block_code block  \n",
       "0        NaN        NaN   NaN  \n",
       "1        NaN        NaN   NaN  \n",
       "2        NaN        NaN   NaN  \n",
       "3        NaN        NaN   NaN  \n",
       "4        thb        NaN   NaN  "
      ]
     },
     "execution_count": 3,
     "metadata": {},
     "output_type": "execute_result"
    }
   ],
   "source": [
    "scryfall.head()"
   ]
  },
  {
   "cell_type": "code",
   "execution_count": 4,
   "metadata": {},
   "outputs": [
    {
     "data": {
      "text/plain": [
       "7795"
      ]
     },
     "execution_count": 4,
     "metadata": {},
     "output_type": "execute_result"
    }
   ],
   "source": [
    "#extract the legal core and expansion sets which are from Return to Ravnica set to actual\n",
    "core = scryfall[scryfall['set_type'] == 'core']\n",
    "expansion = scryfall[scryfall['set_type'] == 'expansion']\n",
    "set_list = pd.concat([core, expansion])\n",
    "set_list = set_list.filter(['code', 'name', 'released_at', 'block', 'card_count'])\n",
    "\n",
    "# the initial sets include from 2012-10-05 (Return to Ravnica set) to actual set\n",
    "pioneer_sets = set_list[set_list['released_at'] >= '2012-10-05']\n",
    "\n",
    "#append 'Welcome Decks' which are also legal\n",
    "pioneer_sets = pd.concat([pioneer_sets, set_list.filter(like='Welcome Deck', axis=0)])\n",
    "pioneer_sets = pioneer_sets.sort_values(by=['released_at'])\n",
    "pioneer_sets['code'] = pioneer_sets['code'].apply(lambda x: x.upper())\n",
    "pioneer_sets = pioneer_sets.set_index('code',inplace=False).fillna('Unknown')\n",
    "pioneer_sets.columns = ['Set Name', 'Release Date', 'Block', 'Total Cards']\n",
    "pioneer_sets['Total Cards'].sum()"
   ]
  },
  {
   "cell_type": "markdown",
   "metadata": {},
   "source": [
    "## Retrieve the list of all cards from the legal sets"
   ]
  },
  {
   "cell_type": "code",
   "execution_count": null,
   "metadata": {},
   "outputs": [],
   "source": [
    "# Retrieve the number of pages needed for request\n",
    "total_cards_set = pioneer_sets['Total Cards'].to_list()\n",
    "page_numbers = [i // 100 + 1 for i in total_cards_set]\n",
    "\n",
    "complete = []\n",
    "for i in pioneer_sets.index:\n",
    "    for j in range(1,page_numbers[0]+1):\n",
    "        url='https://api.magicthegathering.io/v1/cards?page='+str(j)+'&set='+str(i)\n",
    "        response = requests.get(url)\n",
    "        time.sleep(0.25)\n",
    "        results = response.json()\n",
    "        x = json_normalize(results)\n",
    "        flattened_data1 = json_normalize(x.cards[0])\n",
    "        complete.append(flattened_data1)\n",
    "        \n",
    "data = pd.concat(complete, sort=False, ignore_index=True)\n",
    "data"
   ]
  },
  {
   "cell_type": "code",
   "execution_count": null,
   "metadata": {},
   "outputs": [],
   "source": [
    "data.columns"
   ]
  },
  {
   "cell_type": "code",
   "execution_count": null,
   "metadata": {},
   "outputs": [],
   "source": [
    "# Select only columns with valuable info\n",
    "\n",
    "cards = data[['name', 'manaCost', 'cmc', 'colors', 'type', 'rarity', 'set', 'text', 'power', 'toughness', 'loyalty']]"
   ]
  },
  {
   "cell_type": "code",
   "execution_count": null,
   "metadata": {},
   "outputs": [],
   "source": [
    "# Extract the list of banned cards\n",
    "\n",
    "url = 'https://magic.wizards.com/es/game-info/gameplay/formats/pioneer'\n",
    "\n",
    "def get_links(url):\n",
    "    '''\n",
    "    This function takes a url of a MTG format and\n",
    "    scrappes the list of the cards that are banned\n",
    "    '''\n",
    "    html = requests.get(url).content\n",
    "    soup = BeautifulSoup(html, features='html.parser')\n",
    "    links = soup.find_all('a', {'class':'autocard-link'})\n",
    "    \n",
    "    # from each link take the 2 second last \n",
    "    # (which contains the name of the card)\n",
    "    # and strip the last character that are related with\n",
    "    \n",
    "    reference = [str(i).split('>')[-2][:-3] for i in links]\n",
    "    return reference\n",
    "\n",
    "banned_cards = get_links(url)"
   ]
  },
  {
   "cell_type": "code",
   "execution_count": null,
   "metadata": {},
   "outputs": [],
   "source": [
    "print(banned_cards)"
   ]
  },
  {
   "cell_type": "markdown",
   "metadata": {},
   "source": [
    "## Extract the matches results from the last competitive tournaments "
   ]
  },
  {
   "cell_type": "code",
   "execution_count": null,
   "metadata": {},
   "outputs": [],
   "source": [
    "def get_matches(city):\n",
    "    '''\n",
    "    This function takes the name of a city an raises an error if the city is not valid.\n",
    "    In case the city if one of the cities (currently brussels, nagoya and phoenix) that had a tournament, \n",
    "    creates a dataframe with all the different matches.\n",
    "    '''\n",
    "    tabs = []\n",
    "    # check the city before passing to the url\n",
    "    if city.lower() == 'brussels':\n",
    "        range_max = 17\n",
    "    elif (city.lower() == 'nagoya') | (city.lower() == 'phoenix'):\n",
    "        range_max = 16\n",
    "    else:\n",
    "        raise ValueError('The city provided is not valid')\n",
    "        \n",
    "    for i in range(1,range_max):\n",
    "        url = 'https://magic.gg/news/players-tour-'+str(city)+'-2020-round-'+str(i)+'-results'\n",
    "        html = requests.get(url).content\n",
    "        soup = BeautifulSoup(html, features='html.parser')\n",
    "        table = soup.find_all('div', {'class': 'table-wrapper'})[0].find_all('tr')\n",
    "    \n",
    "        for tr in table:\n",
    "            tabs.append({\n",
    "                'Player': tr.find_all('td')[1].string.rstrip().title(),\n",
    "                'Opponent': tr.find_all('td')[5].string.title(),\n",
    "                'Match': tr.find_all('td')[3].string\n",
    "                })\n",
    "    return pd.DataFrame(tabs)"
   ]
  },
  {
   "cell_type": "code",
   "execution_count": null,
   "metadata": {},
   "outputs": [],
   "source": [
    "brussels_matches = get_matches('brussels')\n",
    "brussels_matches.head()"
   ]
  },
  {
   "cell_type": "code",
   "execution_count": null,
   "metadata": {},
   "outputs": [],
   "source": [
    "# nagoya matches\n",
    "nagoya_matches = get_matches('nagoya')\n",
    "nagoya_matches.head()"
   ]
  },
  {
   "cell_type": "code",
   "execution_count": null,
   "metadata": {},
   "outputs": [],
   "source": [
    "# phoenix matches\n",
    "phoenix_matches = get_matches('phoenix')\n",
    "phoenix_matches.head()"
   ]
  },
  {
   "cell_type": "markdown",
   "metadata": {},
   "source": [
    "## Extract the decklist the different player at each tournament"
   ]
  },
  {
   "cell_type": "code",
   "execution_count": null,
   "metadata": {},
   "outputs": [],
   "source": [
    "def get_decklist(city):\n",
    "    '''\n",
    "    This function takes the name of a city an raises an error if the city is not valid.\n",
    "    In case the city if one of the cities (currently brussels, nagoya and phoenix) that had a tournament, \n",
    "    creates a dataframe with all the decklist played by the different players.\n",
    "    \n",
    "    After extracting data, it makes a transformation because card frequency and card list are extracted as lists. \n",
    "    Therefore, for each card, it creates a new column and stores its number of copies in each deck.\n",
    "    '''\n",
    "    # check if the city is correct\n",
    "    \n",
    "    if city.lower() == 'nagoya':\n",
    "        range_max = 4\n",
    "    elif (city.lower() == 'brussels') | (city.lower() == 'phoenix'):\n",
    "        range_max = 6\n",
    "    else:\n",
    "        raise ValueError('The city provided is not valid')\n",
    "        \n",
    "    card_list = []\n",
    "    card_count = []\n",
    "    span_cards = []\n",
    "    player_deck = []\n",
    "    \n",
    "    for s in range(1,range_max):\n",
    "        # extract the data from web\n",
    "        url = 'https://magic.wizards.com/en/events/coverage/players-tour-'+str(city)+'-2020-decklists-'+str(s)\n",
    "        html = requests.get(url).content\n",
    "        soup = BeautifulSoup(html, features='html.parser')\n",
    "        player = [str(title.text) for title in soup.find_all('h4')]\n",
    "        # append the results\n",
    "        player_deck.append(player)\n",
    "       \n",
    "        for deck in soup.find_all('div', {'class':'deck-list-text'}):\n",
    "            a_tag = deck.find_all('span', {'class':'card-name'})\n",
    "            count_tag = deck.find_all('span', {'class':'card-count'})\n",
    "            name = [str(tag).split('>')[-3][:-3] for tag in a_tag]\n",
    "            count = [tag.text for tag in count_tag]\n",
    "        \n",
    "        # change non cards 'span class'\n",
    "            span = [str(tag).split('>')[-2][:-6] for tag in a_tag]\n",
    "    \n",
    "        #append the results\n",
    "            card_list.append(name)\n",
    "            card_count.append(count)\n",
    "            span_cards.append(span)\n",
    "\n",
    "    for i, deck in enumerate(card_list):\n",
    "        for j, card in enumerate(deck):\n",
    "            if '<span class' in card:\n",
    "                card_list[i][j] = span_cards[i][j]\n",
    "\n",
    "\n",
    "    player_list = [(i.split(',')[0] + str(',') + i.split(',')[1].split('-')[0].rstrip()).title() \n",
    "                   for page in player_deck for i in page]\n",
    "    deck_list = ['-'.join(i.split(',')[1].split('-')[1:]) for page in player_deck for i in page]\n",
    "\n",
    "\n",
    "    decklist = pd.DataFrame([player_list, deck_list, card_count, card_list], index=['Player', 'Deck', 'Copies', 'Cards'])\n",
    "    decklist = decklist.T\n",
    "    \n",
    "    ### Extract all the cards stored in card list as new columns in the dataframe and assign card count as values ###\n",
    "    \n",
    "    #Dict comprehension with key = card name, value = card count\n",
    "    card_frequency = [dict(zip(card_list[i], card_count[i])) for i in range(len(card_list))]\n",
    "\n",
    "    card_values =  pd.DataFrame([card_frequency], index=['cards'])\n",
    "\n",
    "    # extract the dict values and create one column for each card\n",
    "    card_values = card_values.T.cards.apply(pd.Series).fillna(0) \n",
    "\n",
    "    #reorder the columns alphabetically\n",
    "    card_values = card_values.reindex(sorted(card_values.columns), axis=1)\n",
    "    \n",
    "    decklist = pd.concat([decklist.Player, decklist.Deck, card_values], axis=1, sort=False)\n",
    "    \n",
    "    return decklist\n",
    "\n",
    "        "
   ]
  },
  {
   "cell_type": "code",
   "execution_count": null,
   "metadata": {},
   "outputs": [],
   "source": [
    "brussels_decklist = get_decklist('brussels')\n",
    "brussels_decklist.head()"
   ]
  },
  {
   "cell_type": "code",
   "execution_count": null,
   "metadata": {},
   "outputs": [],
   "source": [
    "nagoya_decklist = get_decklist('nagoya')\n",
    "nagoya_decklist.head()"
   ]
  },
  {
   "cell_type": "code",
   "execution_count": null,
   "metadata": {},
   "outputs": [],
   "source": [
    "phoenix_decklist = get_decklist('phoenix')\n",
    "phoenix_decklist.head()"
   ]
  },
  {
   "cell_type": "markdown",
   "metadata": {},
   "source": [
    "### Given the decklists dataframe, calculate the most played card (number of copies) for each tournament"
   ]
  },
  {
   "cell_type": "code",
   "execution_count": null,
   "metadata": {},
   "outputs": [],
   "source": [
    "def most_played_cards(decklist):\n",
    "    '''\n",
    "    This function takes a decklist type dataframe \n",
    "    and returns the most played card of this tournament\n",
    "    '''\n",
    "    # extract the name of all cards played\n",
    "    card_columns = decklist.columns[2:]\n",
    "    \n",
    "    # data type\n",
    "    decklist[card_columns] = decklist[card_columns].astype('int32')\n",
    "\n",
    "    return decklist[card_columns].apply(np.sum, axis=0).sort_values(ascending=False)"
   ]
  },
  {
   "cell_type": "code",
   "execution_count": null,
   "metadata": {},
   "outputs": [],
   "source": [
    "brussels_played = most_played_cards(brussels_decklist)\n",
    "brussels_played"
   ]
  },
  {
   "cell_type": "code",
   "execution_count": null,
   "metadata": {},
   "outputs": [],
   "source": [
    "nagoya_played = most_played_cards(nagoya_decklist)\n",
    "nagoya_played"
   ]
  },
  {
   "cell_type": "code",
   "execution_count": null,
   "metadata": {},
   "outputs": [],
   "source": [
    "phoenix_played = most_played_cards(phoenix_decklist)\n",
    "phoenix_played"
   ]
  },
  {
   "cell_type": "markdown",
   "metadata": {},
   "source": [
    "### Append the results to the total Cards Legal retrieved from API"
   ]
  },
  {
   "cell_type": "code",
   "execution_count": null,
   "metadata": {},
   "outputs": [],
   "source": [
    "# retrieve the list of the most played cards\n",
    "\n",
    "total_played = pd.concat([brussels_played, nagoya_played, phoenix_played], axis=1, sort=True)\n",
    "total_played.columns = ['Brussels', 'Nagoya', 'Phoenix']\n",
    "total_played = total_played.fillna(0)\n",
    "total_played = total_played.astype('int32')\n",
    "total_played['Total copies'] = total_played.sum(axis=1, skipna = True)\n",
    "total_played.sort_values(by='Total copies', ascending=False)\n",
    "total_played = total_played.reset_index()\n",
    "total_played.columns = ['Name', 'Brussels', 'Nagoya', 'Phoenix', 'Total copies']\n",
    "total_played"
   ]
  },
  {
   "cell_type": "code",
   "execution_count": null,
   "metadata": {},
   "outputs": [],
   "source": [
    "cards = pd.merge(cards, total_played, left_on='name', right_on='Name')\n",
    "cards = cards.drop(['Brussels_x', 'Nagoya_x', 'Phoenix_x', 'Total copies_x', 'Name'], axis=1)\n",
    "cards.columns = ['Card Name', 'Mana Cost', 'CMC', 'Colors', 'Type', 'Rarity', 'Set', 'Text', 'Power', 'Toughness', 'Loyalty', \n",
    "                 'Brussels copies', 'Nagoya copies', 'Phoenix copies', 'Total copies']\n",
    "\n",
    "cards.head()"
   ]
  },
  {
   "cell_type": "code",
   "execution_count": null,
   "metadata": {},
   "outputs": [],
   "source": [
    "'''\n",
    "\n",
    "#transform result table into classification\n",
    "brussels_matches['Result'] = brussels_matches['Match'].str.split('\\s').str.get(0)\n",
    "brussels_matches['GW'] = brussels_matches['Match'].str.split('\\s').str.get(1).str.split('-').str.get(0)\n",
    "brussels_matches['GL'] = brussels_matches['Match'].str.split('\\s').str.get(1).str.split('-').str.get(1)\n",
    "\n",
    "#brussels_round['Player']\n",
    "\n",
    "### Replace Player - Opponent with Deck from Brussel Matches\n",
    "\n",
    "#Dict for mapping the player-deck\n",
    "player_deck_dict = dict(zip(player_list, deck_list))\n",
    "\n",
    "# I was lost without a map... \n",
    "brussels_matches['Opponent'] = brussels_matches['Opponent'].map(player_deck_dict)\n",
    "brussels_matches['Player'] = brussels_matches['Player'].map(player_deck_dict)\n",
    "\n",
    "brussels_matches['Player'].value_counts(dropna=False)\n",
    "\n",
    "'''"
   ]
  },
  {
   "cell_type": "code",
   "execution_count": null,
   "metadata": {},
   "outputs": [],
   "source": [
    "######################################################"
   ]
  },
  {
   "cell_type": "code",
   "execution_count": null,
   "metadata": {},
   "outputs": [],
   "source": [
    "# transform type to integer\n",
    "#nagoya_round = nagoya_round.fillna(0).astype({'GW':'int32', 'GL':'int32'})\n",
    "#player_agg = nagoya_round.groupby('Player')['GW','GL'].agg('sum')\n",
    "#opponent_agg = nagoya_round.groupby('Opponent')['GW','GL'].agg('sum')\n",
    "\n",
    "#player_agg\n",
    "#opponent_agg\n"
   ]
  },
  {
   "cell_type": "markdown",
   "metadata": {},
   "source": [
    "## Perform stadistical analysis"
   ]
  },
  {
   "cell_type": "code",
   "execution_count": null,
   "metadata": {},
   "outputs": [],
   "source": [
    "## 1) Most played card\n",
    "## 2) The last set was impactfull? (% of copies / total)\n",
    "\n",
    "\n",
    "## 5) Most played decks\n",
    "## 6) Matrix of win rate of each deck --> Boxplot "
   ]
  }
 ],
 "metadata": {
  "kernelspec": {
   "display_name": "Python 3",
   "language": "python",
   "name": "python3"
  },
  "language_info": {
   "codemirror_mode": {
    "name": "ipython",
    "version": 3
   },
   "file_extension": ".py",
   "mimetype": "text/x-python",
   "name": "python",
   "nbconvert_exporter": "python",
   "pygments_lexer": "ipython3",
   "version": "3.7.4"
  }
 },
 "nbformat": 4,
 "nbformat_minor": 2
}
